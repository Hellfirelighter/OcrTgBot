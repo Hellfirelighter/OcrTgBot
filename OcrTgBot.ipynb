{
  "nbformat": 4,
  "nbformat_minor": 0,
  "metadata": {
    "colab": {
      "provenance": []
    },
    "kernelspec": {
      "name": "python3",
      "display_name": "Python 3"
    },
    "language_info": {
      "name": "python"
    }
  },
  "cells": [
    {
      "cell_type": "code",
      "source": [
        "%pip install easyocr folium==0.2.1 aiogram nest-asyncio"
      ],
      "metadata": {
        "id": "EAglA3bHzxHr"
      },
      "execution_count": null,
      "outputs": []
    },
    {
      "cell_type": "code",
      "source": [
        "%env TOKEN=your_telegram_bot_token"
      ],
      "metadata": {
        "id": "F4LXnyhLys1r"
      },
      "execution_count": null,
      "outputs": []
    },
    {
      "cell_type": "code",
      "execution_count": 6,
      "metadata": {
        "id": "K6CpsWJhUsFK"
      },
      "outputs": [],
      "source": [
        "import nest_asyncio\n",
        "nest_asyncio.apply()\n",
        "\n",
        "import easyocr\n",
        "import os\n",
        "from aiogram import Bot, Dispatcher, executor, types\n",
        "\n",
        "token = os.environ['TOKEN']\n",
        "bot = Bot(token=token)\n",
        "dp = Dispatcher(bot)\n",
        "\n",
        "\n",
        "def text_recog(in_file_path):\n",
        "    reader = easyocr.Reader([\"uk\", \"en\", \"ru\"], gpu=True)\n",
        "    result = reader.readtext(in_file_path, detail=0, paragraph=True)\n",
        "    return result\n",
        "\n",
        "\n",
        "@dp.message_handler(commands=\"start\")\n",
        "async def start(message: types.Message):\n",
        "    await message.answer(\"Take a photo and i'll return text to you\")\n",
        "\n",
        "\n",
        "@dp.message_handler(content_types=types.ContentType.PHOTO)\n",
        "async def process_image(message: types.Message):\n",
        "  try:\n",
        "    await message.answer('Taking photo...')\n",
        "    photo = message.photo[-1].file_id\n",
        "    file = await bot.get_file(photo)\n",
        "    file_path = file.file_path\n",
        "    await bot.download_file(file_path, \"image.png\")\n",
        "    await message.answer(\"Recognizing...wait please\")\n",
        "    await message.answer(\"\\n\".join(text_recog(\"image.png\")))\n",
        "  except:\n",
        "    await message.answer(\"Oops...error occured, try once more\")"
      ]
    },
    {
      "cell_type": "code",
      "source": [
        "if __name__ == '__main__':\n",
        "    executor.start_polling(dp)"
      ],
      "metadata": {
        "id": "27nnH9EWY1Zx"
      },
      "execution_count": null,
      "outputs": []
    }
  ]
}